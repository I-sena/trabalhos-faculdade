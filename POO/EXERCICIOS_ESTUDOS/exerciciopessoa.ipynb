{
 "cells": [
  {
   "cell_type": "code",
   "execution_count": 1,
   "metadata": {},
   "outputs": [],
   "source": [
    "#import da classepessoa para ser utilizada aqui nesse código\n",
    "from classepessoa import *"
   ]
  },
  {
   "cell_type": "code",
   "execution_count": 2,
   "metadata": {},
   "outputs": [],
   "source": [
    "#serve para limpar a tela\n",
    "from IPython.display import clear_output"
   ]
  },
  {
   "cell_type": "code",
   "execution_count": 3,
   "metadata": {},
   "outputs": [],
   "source": [
    "listadepessoas=[] #lista que vai armazenar os objetos da classe pessoa\n",
    "opcao=0 #variavel de controle do menu"
   ]
  },
  {
   "cell_type": "code",
   "execution_count": 4,
   "metadata": {
    "scrolled": true
   },
   "outputs": [
    {
     "name": "stdout",
     "output_type": "stream",
     "text": [
      "Menu Principal\n",
      "1-Incluir Nova Pessoa\n",
      "2-Listar Todas as Pessoas\n",
      "3-Listar Pessoa por Nome\n",
      "4-Listar Pessoas de uma Determinada UF\n",
      "5-Sair\n",
      "Digitar a Opção Desejada ==>5\n"
     ]
    }
   ],
   "source": [
    "while(opcao!=5):\n",
    "    clear_output() #serve para limpar a tela\n",
    "    print(\"Menu Principal\")\n",
    "    print(\"1-Incluir Nova Pessoa\")\n",
    "    print(\"2-Listar Todas as Pessoas\")\n",
    "    print(\"3-Listar Pessoa por Nome\")\n",
    "    print(\"4-Listar Pessoas de uma Determinada UF\")\n",
    "    print(\"5-Sair\")\n",
    "    opcao=int(input(\"Digitar a Opção Desejada ==>\"))\n",
    "    \n",
    "    if(opcao==1):\n",
    "        objpessoa=pessoa()\n",
    "        objpessoa.leituradados()\n",
    "        listadepessoas.append(objpessoa)\n",
    "    if(opcao==2):\n",
    "        print(\"===LISTA DE TODAS AS PESSOAS CADASTRADAS===\")\n",
    "        for p in listadepessoas:\n",
    "            p.mostrardados()\n",
    "        continuar=input(\"Pessione <Enter> para Continuar\")\n",
    "    if(opcao==3):\n",
    "        nome=input(\"Digite o nome da pessoa que deseja pesquisar:\")\n",
    "        existe=False\n",
    "        for p in listadepessoas:\n",
    "            if(p.nome==nome):\n",
    "                existe=True\n",
    "                p.mostrardados()\n",
    "                \n",
    "        if(not existe):\n",
    "            print(\"Nome não cadastrado\")\n",
    "        continuar=input(\"Pessione <Enter> para Continuar\")\n",
    "    if(opcao==4):\n",
    "        UF=input(\"Digite a UF que deseja pesquisar as pessoas:\")\n",
    "        for p in listadepessoas:\n",
    "            if(p.UF.lower()==UF.lower()):\n",
    "                p.mostrardados()\n",
    "        continuar=input(\"Pessione <Enter> para Continuar\")\n",
    "        \n",
    "    if(opcao<1 or opcao>5):\n",
    "        print(\"Opção Inválida!!! Digite Opção de 1 à 5\")\n",
    "        continuar=input(\"Pessione <Enter> para Continuar\")"
   ]
  },
  {
   "cell_type": "markdown",
   "metadata": {},
   "source": []
  }
 ],
 "metadata": {
  "kernelspec": {
   "display_name": "Python 3",
   "language": "python",
   "name": "python3"
  },
  "language_info": {
   "codemirror_mode": {
    "name": "ipython",
    "version": 3
   },
   "file_extension": ".py",
   "mimetype": "text/x-python",
   "name": "python",
   "nbconvert_exporter": "python",
   "pygments_lexer": "ipython3",
   "version": "3.8.6"
  }
 },
 "nbformat": 4,
 "nbformat_minor": 4
}
