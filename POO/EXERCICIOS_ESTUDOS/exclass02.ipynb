{
 "cells": [
  {
   "cell_type": "code",
   "execution_count": 2,
   "metadata": {},
   "outputs": [
    {
     "name": "stdout",
     "output_type": "stream",
     "text": [
      "Digite o nome do aluno:marcelo\n",
      "Digite a idade do aluno:20\n",
      "Digite o ano de ingresso do aluno:2000\n",
      "Digite o número de períodos do aluno:3\n",
      "Digite a média do período 1:10\n",
      "Digite a média do período 2:20\n",
      "Digite a média do período 3:30\n",
      "Nome=marcelo, idade=20, ano de ingresso=2000 e número de períodos=3\n",
      "Media do periodo 1=10.0\n",
      "Media do periodo 2=20.0\n",
      "Media do periodo 3=30.0\n",
      "Média Geral do aluno=20.00\n"
     ]
    }
   ],
   "source": [
    "from moduloaluno import *\n",
    "\n",
    "aluno01=aluno()\n",
    "aluno01.ledadosaluno()\n",
    "aluno01.mostradadosaluno()\n",
    "print(\"Média Geral do aluno={:.2f}\".format(aluno01.calculamediageral()))"
   ]
  },
  {
   "cell_type": "code",
   "execution_count": null,
   "metadata": {},
   "outputs": [],
   "source": []
  },
  {
   "cell_type": "code",
   "execution_count": null,
   "metadata": {},
   "outputs": [],
   "source": []
  }
 ],
 "metadata": {
  "kernelspec": {
   "display_name": "Python 3",
   "language": "python",
   "name": "python3"
  },
  "language_info": {
   "codemirror_mode": {
    "name": "ipython",
    "version": 3
   },
   "file_extension": ".py",
   "mimetype": "text/x-python",
   "name": "python",
   "nbconvert_exporter": "python",
   "pygments_lexer": "ipython3",
   "version": "3.8.6"
  }
 },
 "nbformat": 4,
 "nbformat_minor": 4
}
