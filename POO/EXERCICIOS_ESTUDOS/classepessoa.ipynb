{
 "cells": [
  {
   "cell_type": "code",
   "execution_count": null,
   "metadata": {},
   "outputs": [],
   "source": [
    "#NÃO ESQUECER QUE PARA FUNCIONAR O MÓDULO NO CÓDIGO EXERCICIOPESSOA\n",
    "#TEM QUE SALVAR COMO PY. FILE->DOWNLOAD AS->PYTHON(.PY)\n",
    "\n",
    "class pessoa:\n",
    "    #atributos da classe\n",
    "    nome=\"\"\n",
    "    anonasc=0\n",
    "    email=\"\"\n",
    "    UF=\"\"\n",
    "    \n",
    "    def __init__(self,n=None,a=None,e=None,uf=None):\n",
    "        if(n==None):  \n",
    "            self.nome=\"\"\n",
    "        else:\n",
    "            self.nome=n\n",
    "        if(a==None):\n",
    "            self.anonasc=0\n",
    "        else:\n",
    "            self.anonasc=a\n",
    "        if(e==None):\n",
    "            self.email=\"\"\n",
    "        else:\n",
    "            self.email=e\n",
    "        if(uf==None):\n",
    "            self.UF=\"\"\n",
    "        else:\n",
    "            self.UF=uf\n",
    "    \n",
    "    def leituradados(self):\n",
    "        self.nome=input(\"Digite o nome:\")\n",
    "        self.anonasc=int(input(\"Digite o ano de nascimento:\"))\n",
    "        self.email=input(\"Digite o email:\")\n",
    "        UF=input(\"Digite a UF:\")\n",
    "        self.setUF(UF)\n",
    "        \n",
    "    def mostrardados(self):\n",
    "        print(\"Nome=\",self.nome,\" Ano de Nascimento:\",self.anonasc,\" Email=\",self.email,\" UF=\",self.UF)\n",
    "    \n",
    "    def getanonascimento(self):\n",
    "        return self.anonasc\n",
    "    \n",
    "    def getuf(self):\n",
    "        return self.UF\n",
    "    \n",
    "    def setUF(self, UF):\n",
    "        self.UF=UF\n",
    "    \n",
    "    def calculaidade(self):\n",
    "        #idade=2021-self.anonasc\n",
    "        \n",
    "        from datetime import datetime\n",
    "        data = datetime.now()\n",
    "        \n",
    "        ano=data.year\n",
    "        \n",
    "        idade=ano-self.anonasc\n",
    "        \n",
    "        return idade\n",
    "    "
   ]
  },
  {
   "cell_type": "code",
   "execution_count": null,
   "metadata": {},
   "outputs": [],
   "source": []
  }
 ],
 "metadata": {
  "kernelspec": {
   "display_name": "Python 3",
   "language": "python",
   "name": "python3"
  },
  "language_info": {
   "codemirror_mode": {
    "name": "ipython",
    "version": 3
   },
   "file_extension": ".py",
   "mimetype": "text/x-python",
   "name": "python",
   "nbconvert_exporter": "python",
   "pygments_lexer": "ipython3",
   "version": "3.8.6"
  }
 },
 "nbformat": 4,
 "nbformat_minor": 4
}
