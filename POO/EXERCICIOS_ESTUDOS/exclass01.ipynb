{
 "cells": [
  {
   "cell_type": "code",
   "execution_count": 15,
   "metadata": {},
   "outputs": [],
   "source": [
    "#definição da classe ponto \n",
    "class ponto:\n",
    "    #definição dos atributos x e y da classe\n",
    "    x=0\n",
    "    y=0\n",
    "    \n",
    "    #definição do construtor da classe\n",
    "    def __init__(self,x=None,y=None):\n",
    "        if x is None:\n",
    "            self.x=0\n",
    "        else:\n",
    "            self.x=x\n",
    "        if y is None:\n",
    "            self.y=0\n",
    "        else:\n",
    "            self.y=y    \n",
    "    \n",
    "    #definição do método ledados para leitura dos dados do ponto\n",
    "    def ledados(self):\n",
    "        self.x=int(input(\"Digite a coordenada x do ponto:\"))\n",
    "        self.y=int(input(\"Digite a coordenada y do ponto:\"))\n",
    "    \n",
    "    #definição do método mostradados para mostrar os dados do ponto\n",
    "    def mostradados(self):\n",
    "        print(\"Coordenadas do ponto x={} e y={}\".format(self.x,self.y))\n",
    "        "
   ]
  },
  {
   "cell_type": "code",
   "execution_count": 16,
   "metadata": {},
   "outputs": [
    {
     "name": "stdout",
     "output_type": "stream",
     "text": [
      "Coordenadas do ponto x=10 e y=20\n",
      "Coordenadas do ponto x=0 e y=0\n",
      "Digite a coordenada x do ponto:1\n",
      "Digite a coordenada y do ponto:4\n",
      "Digite a coordenada x do ponto:5\n",
      "Digite a coordenada y do ponto:7\n",
      "Coordenadas do ponto x=1 e y=4\n",
      "Coordenadas do ponto x=5 e y=7\n"
     ]
    }
   ],
   "source": [
    "p1 = ponto(10,20)\n",
    "p2 = ponto()\n",
    "\n",
    "p1.mostradados()\n",
    "p2.mostradados()\n",
    "\n",
    "p1.ledados()\n",
    "p2.ledados()\n",
    "\n",
    "p1.mostradados()\n",
    "p2.mostradados()"
   ]
  },
  {
   "cell_type": "code",
   "execution_count": 20,
   "metadata": {},
   "outputs": [
    {
     "name": "stdout",
     "output_type": "stream",
     "text": [
      "Coordenadas do ponto x=10 e y=20\n",
      "Coordenadas do ponto x=0 e y=0\n",
      "Digite a coordenada x do ponto:1\n",
      "Digite a coordenada y do ponto:3\n",
      "Digite a coordenada x do ponto:4\n",
      "Digite a coordenada y do ponto:5\n",
      "Coordenadas do ponto x=1 e y=3\n",
      "Coordenadas do ponto x=4 e y=5\n"
     ]
    }
   ],
   "source": [
    "from ponto import *\n",
    "\n",
    "p1 = ponto(10,20)\n",
    "p2 = ponto()\n",
    "\n",
    "p1.mostradados()\n",
    "p2.mostradados()\n",
    "\n",
    "p1.ledados()\n",
    "p2.ledados()\n",
    "\n",
    "p1.mostradados()\n",
    "p2.mostradados()"
   ]
  },
  {
   "cell_type": "code",
   "execution_count": 23,
   "metadata": {},
   "outputs": [
    {
     "name": "stdout",
     "output_type": "stream",
     "text": [
      "Digite o número de pontos desejados:2\n",
      "Ponto 1\n",
      "Digite a coordenada x do ponto:1\n",
      "Digite a coordenada y do ponto:2\n",
      "Ponto 2\n",
      "Digite a coordenada x do ponto:3\n",
      "Digite a coordenada y do ponto:4\n",
      "Mostrando os dados dos pontos armazenados na lista\n",
      "Coordenadas do ponto x=1 e y=2\n",
      "Coordenadas do ponto x=3 e y=4\n"
     ]
    }
   ],
   "source": [
    "from ponto import *\n",
    "\n",
    "#lista para armazenar os objetos da classe ponto\n",
    "listpontos=[]\n",
    "\n",
    "numpontos=int(input(\"Digite o número de pontos desejados:\"))\n",
    "\n",
    "for i in range(1,numpontos+1):\n",
    "    print(\"Ponto {}\".format(i))\n",
    "    #instancia o objeto p1 da classe ponto\n",
    "    p1 = ponto()\n",
    "    #executa o método ledados da classe ponto para o objeto p1\n",
    "    p1.ledados()\n",
    "    #adiciona o objeto p1 ao final da lista listpontos\n",
    "    listpontos.append(p1)\n",
    "\n",
    "print(\"Mostrando os dados dos pontos armazenados na lista\")    \n",
    "for p in listpontos:\n",
    "    #como cada elemento do iterado p é um objeto da classe ponto, podemos executar o método mostradados \n",
    "    p.mostradados()\n",
    "    "
   ]
  },
  {
   "cell_type": "code",
   "execution_count": null,
   "metadata": {},
   "outputs": [],
   "source": []
  }
 ],
 "metadata": {
  "kernelspec": {
   "display_name": "Python 3",
   "language": "python",
   "name": "python3"
  },
  "language_info": {
   "codemirror_mode": {
    "name": "ipython",
    "version": 3
   },
   "file_extension": ".py",
   "mimetype": "text/x-python",
   "name": "python",
   "nbconvert_exporter": "python",
   "pygments_lexer": "ipython3",
   "version": "3.8.6"
  }
 },
 "nbformat": 4,
 "nbformat_minor": 4
}
